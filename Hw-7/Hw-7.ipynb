{
 "cells": [
  {
   "cell_type": "markdown",
   "metadata": {},
   "source": [
    "# Homework 7\n",
    "\n",
    "I will store the  data in a pandas dataframe."
   ]
  },
  {
   "cell_type": "code",
   "execution_count": 11,
   "metadata": {
    "collapsed": true
   },
   "outputs": [],
   "source": [
    "import pandas as pd\n",
    "from pulp import *\n",
    "\n",
    "data = pd.read_excel('diet.xls')\n",
    "reqs = data.iloc[65:67,2:data.shape[1]]\n",
    "options = data.iloc[0:64]\n",
    "options = options.drop('Serving Size',1)"
   ]
  },
  {
   "cell_type": "markdown",
   "metadata": {},
   "source": [
    "Maintain a list of food."
   ]
  },
  {
   "cell_type": "code",
   "execution_count": 12,
   "metadata": {
    "collapsed": true
   },
   "outputs": [],
   "source": [
    "foods = []\n",
    "for x in range(len(options.iloc[:,1])):\n",
    "    foods.append(options.iloc[x,0])"
   ]
  },
  {
   "cell_type": "markdown",
   "metadata": {},
   "source": [
    "So this is our key data structure, a dict with the food name as key containing a list of all the nutritional information"
   ]
  },
  {
   "cell_type": "code",
   "execution_count": 13,
   "metadata": {
    "collapsed": true
   },
   "outputs": [],
   "source": [
    "# build dictionary indexed by food name\n",
    "nut = {}\n",
    "for food,x in zip(foods,range(len(foods))):\n",
    "    nut[food]=options.iloc[x,1:].values.tolist()"
   ]
  },
  {
   "cell_type": "markdown",
   "metadata": {},
   "source": [
    "Now we get into using the LP library. This is new to me.\n",
    "First we set the LP problem object and then create the variables. The variables here are with the foods as key and the no value initially."
   ]
  },
  {
   "cell_type": "code",
   "execution_count": 14,
   "metadata": {
    "collapsed": true
   },
   "outputs": [],
   "source": [
    "# set problem and define variables\n",
    "prob = LpProblem(\"The Diet Problem\",LpMinimize)\n",
    "varis = LpVariable.dicts(\"Foods\",foods,0)"
   ]
  },
  {
   "cell_type": "markdown",
   "metadata": {},
   "source": [
    "Here we have set the the objective funtion, minimise total cost"
   ]
  },
  {
   "cell_type": "code",
   "execution_count": 15,
   "metadata": {
    "collapsed": true
   },
   "outputs": [],
   "source": [
    "# objective function\n",
    "prob += lpSum([nut[f][0] * varis[f] for f in foods]), 'Total Cost'"
   ]
  },
  {
   "cell_type": "markdown",
   "metadata": {},
   "source": [
    "Set the constraints from the second df"
   ]
  },
  {
   "cell_type": "code",
   "execution_count": 16,
   "metadata": {
    "collapsed": true,
    "scrolled": true
   },
   "outputs": [],
   "source": [
    "# note: the way we have constructed our lists means that calories is indexed at 1 and so on for bot\n",
    "for j in range(1,11):\n",
    "    min_value=\"min \"+reqs.columns[j]\n",
    "    max_value=\"max \"+reqs.columns[j]\n",
    "    prob += lpSum([nut[f][j] * varis[f] for f in foods]) \\\n",
    "            >= reqs.iloc[0,j], min_value\n",
    "    prob += lpSum([nut[f][j] * varis[f] for f in foods]) \\\n",
    "            <= reqs.iloc[1,j], max_value"
   ]
  },
  {
   "cell_type": "code",
   "execution_count": 17,
   "metadata": {},
   "outputs": [
    {
     "name": "stdout",
     "output_type": "stream",
     "text": [
      "52.64371 units of Foods_Celery,_Raw\n",
      "0.25960653 units of Foods_Frozen_Broccoli\n",
      "63.988506 units of Foods_Lettuce,Iceberg,Raw\n",
      "2.2929389 units of Foods_Oranges\n",
      "0.14184397 units of Foods_Poached_Eggs\n",
      "13.869322 units of Foods_Popcorn,Air_Popped\n",
      "Total Cost of ingredients =  4.337116797399999\n"
     ]
    }
   ],
   "source": [
    "prob.writeLP(\"diet_first.lp\")\n",
    "prob.solve()\n",
    "for var in prob.variables():\n",
    "    if var.varValue >0:\n",
    "        print(str(var.varValue)+\" units of \"+var.name)\n",
    "\n",
    "print (\"Total Cost of ingredients = \", value(prob.objective))"
   ]
  },
  {
   "cell_type": "markdown",
   "metadata": {},
   "source": [
    "Heyy bingo. This is what the suggested answer in the homework sheet is.\n",
    "\n",
    "## Adding Constraints\n",
    "\n",
    "Now we will add constraints. With more time I might have written some code that defines protein by the amount of protein in it rather than picking out items, alas I did not."
   ]
  },
  {
   "cell_type": "code",
   "execution_count": 18,
   "metadata": {
    "collapsed": true
   },
   "outputs": [],
   "source": [
    "#Establish the food select variable to determine if the item was chosen or not\n",
    "selected=LpVariable.dicts(\"selected\",foods,0,1,LpBinary)\n",
    "\n",
    "#Atleast 1/10 of a server if the food is selected\n",
    "for food in foods:\n",
    "    prob += varis[food] >= 0.1*selected[food]\n",
    "    \n",
    "for food in foods:\n",
    "    prob += selected[food] >= varis[food]*0.0000001\n",
    "    \n",
    "#Either Celery or Broccoli\n",
    "prob += selected['Frozen Broccoli'] + selected['Celery, Raw'] <= 1\n",
    "\n",
    "#Atleast 3 different Meat, Poultry, Egg, or Fish\n",
    "prob += selected['Roasted Chicken'] + \\\n",
    "selected['Poached Eggs'] + \\\n",
    "selected['Scrambled Eggs'] + \\\n",
    "selected['Bologna,Turkey'] + \\\n",
    "selected['Frankfurter, Beef'] + \\\n",
    "selected['Ham,Sliced,Extralean'] + \\\n",
    "selected['Hamburger W/Toppings'] + \\\n",
    "selected['Hotdog, Plain'] + \\\n",
    "selected['Pork'] + \\\n",
    "selected['Sardines in Oil'] + \\\n",
    "selected['White Tuna in Water'] + \\\n",
    "selected['Chicknoodl Soup'] + \\\n",
    "selected['Splt Pea&Hamsoup'] + \\\n",
    "selected['Vegetbeef Soup'] + \\\n",
    "selected['Neweng Clamchwd'] + \\\n",
    "selected['New E Clamchwd,W/Mlk'] + \\\n",
    "selected['Beanbacn Soup,W/Watr'] >=3"
   ]
  },
  {
   "cell_type": "code",
   "execution_count": 19,
   "metadata": {},
   "outputs": [
    {
     "name": "stdout",
     "output_type": "stream",
     "text": [
      "0.1 of Foods_Bologna,Turkey\n",
      "42.423026 of Foods_Celery,_Raw\n",
      "82.673927 of Foods_Lettuce,Iceberg,Raw\n",
      "3.0856009 of Foods_Oranges\n",
      "1.9590978 of Foods_Peanut_Butter\n",
      "0.1 of Foods_Poached_Eggs\n",
      "13.214473 of Foods_Popcorn,Air_Popped\n",
      "0.1 of Foods_Scrambled_Eggs\n",
      "Total Cost =  4.5129554810000005\n"
     ]
    }
   ],
   "source": [
    "prob.solve()\n",
    "for var in prob.variables():\n",
    "    if var.varValue >0 and \"selected\" not in var.name:\n",
    "        print(str(var.varValue)+\" of \"+var.name)\n",
    "\n",
    "print (\"Total Cost = \", value(prob.objective))"
   ]
  },
  {
   "cell_type": "markdown",
   "metadata": {},
   "source": [
    "Still a pretty rubbish diet."
   ]
  },
  {
   "cell_type": "markdown",
   "metadata": {},
   "source": [
    "## Full Problem\n",
    "\n",
    "So I will not comment through each code snippit but say that I have:\n",
    "* We minimise against cholesterol that is at index 27\n",
    "* There is an increase in iterations through the loops because there are more features\n",
    "\n",
    "Othere than that it is the same as problem 1.\n"
   ]
  },
  {
   "cell_type": "code",
   "execution_count": 20,
   "metadata": {
    "collapsed": true
   },
   "outputs": [],
   "source": [
    "%reset -f"
   ]
  },
  {
   "cell_type": "code",
   "execution_count": 21,
   "metadata": {
    "collapsed": true
   },
   "outputs": [],
   "source": [
    "from pulp import *\n",
    "import pandas as pd\n",
    "raw_large = pd.read_excel('diet_large.xls',header=1)\n",
    "raw_large = raw_large.fillna(0)"
   ]
  },
  {
   "cell_type": "code",
   "execution_count": 22,
   "metadata": {
    "collapsed": true
   },
   "outputs": [],
   "source": [
    "#pull constraint info out\n",
    "reqs = raw_large.iloc[[7147,7149],1:31]\n",
    "\n",
    "#trim to df\n",
    "options = raw_large.iloc[0:7146,0:31]\n",
    "# options.tail(3)\n",
    "# reqs"
   ]
  },
  {
   "cell_type": "code",
   "execution_count": 23,
   "metadata": {
    "collapsed": true
   },
   "outputs": [],
   "source": [
    "foods = []\n",
    "for x in range(len(options.iloc[:,0])):\n",
    "    foods.append(options.iloc[x,0])"
   ]
  },
  {
   "cell_type": "code",
   "execution_count": 24,
   "metadata": {
    "collapsed": true
   },
   "outputs": [],
   "source": [
    "# build dictionary indexed by food name\n",
    "nut = {}\n",
    "for food,x in zip(foods,range(len(foods))):\n",
    "    nut[food]=options.iloc[x,1:].values.tolist()"
   ]
  },
  {
   "cell_type": "code",
   "execution_count": 25,
   "metadata": {
    "collapsed": true
   },
   "outputs": [],
   "source": [
    "# set problem and define variables\n",
    "prob = LpProblem(\"The Diet (Cholesterol) Problem\",LpMinimize)\n",
    "varis = LpVariable.dicts(\"Foods\",foods,0)"
   ]
  },
  {
   "cell_type": "code",
   "execution_count": 26,
   "metadata": {
    "collapsed": true
   },
   "outputs": [],
   "source": [
    "# objective function\n",
    "prob += lpSum([nut[f][27] * varis[f] for f in foods]), 'Total Cost'"
   ]
  },
  {
   "cell_type": "code",
   "execution_count": 27,
   "metadata": {
    "collapsed": true,
    "scrolled": true
   },
   "outputs": [],
   "source": [
    "# note: the way the list is we need to reduce the index by one\n",
    "for j in range(30):\n",
    "    min_value=\"min \"+reqs.columns[j]\n",
    "    max_value=\"max \"+reqs.columns[j]\n",
    "    prob += lpSum([nut[f][j] * varis[f] for f in foods]) \\\n",
    "            >= reqs.iloc[0,j], min_value\n",
    "    prob += lpSum([nut[f][j] * varis[f] for f in foods]) \\\n",
    "            <= reqs.iloc[1,j], max_value\n",
    "    #print(j,reqs.columns[j], reqs.iloc[0,j],reqs.iloc[1,j],nut['Butter, salted'][j])"
   ]
  },
  {
   "cell_type": "code",
   "execution_count": 28,
   "metadata": {
    "scrolled": true
   },
   "outputs": [
    {
     "name": "stdout",
     "output_type": "stream",
     "text": [
      "1.1642403 units of Foods_Cereals_ready_to_eat,_NATURE'S_PATH,_OPTIMUM_SLIM\n",
      "0.7518797 units of Foods_Cereals_ready_to_eat,_composite_character_cereals_(movies,_TV),\n",
      "0.57206552 units of Foods_Chiton,_leathery,_gumboots_(Alaska_Native)\n",
      "0.21465428 units of Foods_Egg,_white,_dried\n",
      "0.45547635 units of Foods_Jew's_ear,_(pepeao),_dried\n",
      "0.16709335 units of Foods_KRAFT,_Sugar_Free_COUNTRY_TIME_Pink_Lemonade_Mix,_with_vitamin_\n",
      "0.17539672 units of Foods_Leavening_agents,_cream_of_tartar\n",
      "0.27078841 units of Foods_Lettuce,_red_leaf,_raw\n",
      "0.34185148 units of Foods_Margarine,_regular,_hard,_soybean_(hydrogenated)_and_cottonseed\n",
      "0.64387872 units of Foods_Oil,_whale,_beluga_(Alaska_Native)\n",
      "9999.0273 units of Foods_Water,_bottled,_non_carbonated,_CALISTOGA\n",
      "0.015495182 units of Foods_Whale,_beluga,_meat,_air_dried,_raw_(Alaska_Native)\n",
      "Total Cholesterol of ingredients =  0.0\n"
     ]
    }
   ],
   "source": [
    "prob.writeLP(\"diet_large.lp\")\n",
    "prob.solve()\n",
    "for var in prob.variables():\n",
    "    if var.varValue >0:\n",
    "        print(str(var.varValue)+\" units of \"+var.name)\n",
    "\n",
    "print (\"Total Cholesterol of ingredients = \", value(prob.objective))"
   ]
  },
  {
   "cell_type": "markdown",
   "metadata": {},
   "source": [
    "Delicous. The next steps in improving this code would be removing the determinations of where each is so you can auto-import any xls with the same format e.g. you make the constraints df trim from the length of the originial less 2 etc."
   ]
  }
 ],
 "metadata": {
  "kernelspec": {
   "display_name": "Python 3",
   "language": "python",
   "name": "python3"
  },
  "language_info": {
   "codemirror_mode": {
    "name": "ipython",
    "version": 3
   },
   "file_extension": ".py",
   "mimetype": "text/x-python",
   "name": "python",
   "nbconvert_exporter": "python",
   "pygments_lexer": "ipython3",
   "version": "3.6.1"
  }
 },
 "nbformat": 4,
 "nbformat_minor": 2
}
